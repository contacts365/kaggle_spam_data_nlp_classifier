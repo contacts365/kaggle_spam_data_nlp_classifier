{
 "cells": [
  {
   "cell_type": "code",
   "execution_count": 1,
   "metadata": {
    "collapsed": true
   },
   "outputs": [],
   "source": [
    "import pandas as pd\n",
    "spam_raw = pd.read_csv('spam.csv',encoding = 'UTF-16')"
   ]
  },
  {
   "cell_type": "code",
   "execution_count": 2,
   "metadata": {
    "collapsed": true
   },
   "outputs": [],
   "source": [
    "# remove empty colomns & rename colomns\n",
    "spam_raw = spam_raw.loc[:,'v1':'v2']\n",
    "spam_raw = spam_raw.rename(columns\t= {'v1':'label','v2':'text'})\t\n",
    "# lower case\n",
    "spam_raw['text'] = spam_raw['text'].str.lower()"
   ]
  },
  {
   "cell_type": "code",
   "execution_count": 3,
   "metadata": {},
   "outputs": [],
   "source": [
    "# vectorizer \n",
    "from sklearn.feature_extraction.text import TfidfVectorizer\n",
    "vectorizer = TfidfVectorizer(sublinear_tf=True, max_df=0.5,encoding='utf-16',stop_words='english')\n",
    "\n",
    "# tfidf transformation\n",
    "features_transformed = vectorizer.fit_transform(spam_raw['text'])\n",
    "\n",
    "# feature reduction: select best proportion(5%) of features\n",
    "from sklearn.feature_selection import SelectPercentile, f_classif\n",
    "selector = SelectPercentile(f_classif, percentile = 15)\n",
    "selector.fit(features_transformed, spam_raw['label'])\n",
    "features_transformed = selector.transform(features_transformed).toarray()"
   ]
  },
  {
   "cell_type": "code",
   "execution_count": 22,
   "metadata": {},
   "outputs": [],
   "source": [
    "from sklearn.ensemble import RandomForestClassifier\n",
    "from sklearn.model_selection import GridSearchCV"
   ]
  },
  {
   "cell_type": "code",
   "execution_count": 23,
   "metadata": {},
   "outputs": [],
   "source": [
    "depth_range = range(1,11)\n",
    "parameters = dict(max_depth=depth_range)\n",
    "rf = RandomForestClassifier()\n",
    "clf = GridSearchCV(rf, parameters,cv = 10)"
   ]
  },
  {
   "cell_type": "code",
   "execution_count": 24,
   "metadata": {},
   "outputs": [
    {
     "data": {
      "text/plain": [
       "GridSearchCV(cv=10, error_score='raise',\n",
       "       estimator=RandomForestClassifier(bootstrap=True, class_weight=None, criterion='gini',\n",
       "            max_depth=None, max_features='auto', max_leaf_nodes=None,\n",
       "            min_impurity_decrease=0.0, min_impurity_split=None,\n",
       "            min_samples_leaf=1, min_samples_split=2,\n",
       "            min_weight_fraction_leaf=0.0, n_estimators=10, n_jobs=1,\n",
       "            oob_score=False, random_state=None, verbose=0,\n",
       "            warm_start=False),\n",
       "       fit_params=None, iid=True, n_jobs=1,\n",
       "       param_grid={'max_depth': range(1, 11)}, pre_dispatch='2*n_jobs',\n",
       "       refit=True, return_train_score=True, scoring=None, verbose=0)"
      ]
     },
     "execution_count": 24,
     "metadata": {},
     "output_type": "execute_result"
    }
   ],
   "source": [
    "# fit grid with data\n",
    "clf.fit(features_transformed, spam_raw['label'])"
   ]
  },
  {
   "cell_type": "code",
   "execution_count": 28,
   "metadata": {},
   "outputs": [
    {
     "name": "stdout",
     "output_type": "stream",
     "text": [
      "{'mean_fit_time': array([ 0.07460415,  0.08950517,  0.10390584,  0.11760666,  0.13400764,\n",
      "        0.14560833,  0.15810912,  0.17180984,  0.18481057,  0.19831135]), 'std_fit_time': array([ 0.00080001,  0.0012042 ,  0.00157806,  0.00237503,  0.00334682,\n",
      "        0.00156207,  0.00137493,  0.0009799 ,  0.00203967,  0.00126894]), 'mean_score_time': array([ 0.00430031,  0.00430028,  0.0043004 ,  0.00450029,  0.00460021,\n",
      "        0.00470021,  0.00460019,  0.00470028,  0.00500019,  0.00480022]), 'std_score_time': array([ 0.00045829,  0.0004582 ,  0.00045833,  0.00050001,  0.00048992,\n",
      "        0.00045832,  0.00048995,  0.00045832,  0.00044723,  0.00040002]), 'param_max_depth': masked_array(data = [1 2 3 4 5 6 7 8 9 10],\n",
      "             mask = [False False False False False False False False False False],\n",
      "       fill_value = ?)\n",
      ", 'params': [{'max_depth': 1}, {'max_depth': 2}, {'max_depth': 3}, {'max_depth': 4}, {'max_depth': 5}, {'max_depth': 6}, {'max_depth': 7}, {'max_depth': 8}, {'max_depth': 9}, {'max_depth': 10}], 'split0_test_score': array([ 0.8655914 ,  0.87096774,  0.87455197,  0.89247312,  0.89784946,\n",
      "        0.90681004,  0.90681004,  0.9265233 ,  0.93548387,  0.93369176]), 'split1_test_score': array([ 0.8655914 ,  0.86738351,  0.87096774,  0.89426523,  0.89605735,\n",
      "        0.90322581,  0.89247312,  0.90681004,  0.91756272,  0.93548387]), 'split2_test_score': array([ 0.8655914 ,  0.8655914 ,  0.87455197,  0.87992832,  0.87992832,\n",
      "        0.890681  ,  0.90501792,  0.91218638,  0.90143369,  0.92293907]), 'split3_test_score': array([ 0.8655914 ,  0.8655914 ,  0.87275986,  0.88172043,  0.88172043,\n",
      "        0.90501792,  0.91756272,  0.93010753,  0.92114695,  0.93548387]), 'split4_test_score': array([ 0.8655914 ,  0.86917563,  0.87634409,  0.88709677,  0.90681004,\n",
      "        0.89605735,  0.93010753,  0.93727599,  0.92473118,  0.92473118]), 'split5_test_score': array([ 0.86535009,  0.86535009,  0.87253142,  0.88330341,  0.88330341,\n",
      "        0.89048474,  0.90843806,  0.90125673,  0.91921005,  0.91561939]), 'split6_test_score': array([ 0.86535009,  0.87432675,  0.86714542,  0.87612208,  0.89228007,\n",
      "        0.89228007,  0.8940754 ,  0.90843806,  0.91741472,  0.91382406]), 'split7_test_score': array([ 0.86690647,  0.8705036 ,  0.86690647,  0.87589928,  0.88129496,\n",
      "        0.8794964 ,  0.89748201,  0.90467626,  0.92266187,  0.91726619]), 'split8_test_score': array([ 0.86690647,  0.86870504,  0.87230216,  0.89028777,  0.89748201,\n",
      "        0.88848921,  0.91007194,  0.92625899,  0.92625899,  0.92446043]), 'split9_test_score': array([ 0.86690647,  0.8705036 ,  0.8794964 ,  0.88129496,  0.89208633,\n",
      "        0.90647482,  0.92266187,  0.91726619,  0.90827338,  0.92266187]), 'mean_test_score': array([ 0.86593683,  0.86880833,  0.87275664,  0.88424264,  0.89088299,\n",
      "        0.89590811,  0.90847093,  0.91708543,  0.91941852,  0.92462312]), 'std_test_score': array([ 0.00064034,  0.00275151,  0.00365728,  0.00618871,  0.00854231,\n",
      "        0.00872239,  0.0116351 ,  0.01166149,  0.00895702,  0.00759572]), 'rank_test_score': array([10,  9,  8,  7,  6,  5,  4,  3,  2,  1]), 'split0_train_score': array([ 0.86597527,  0.87056243,  0.87136019,  0.88252892,  0.89648983,\n",
      "        0.90905465,  0.91344236,  0.91783008,  0.92959713,  0.93099322]), 'split1_train_score': array([ 0.86597527,  0.86896689,  0.87295572,  0.89768648,  0.89110491,\n",
      "        0.91244515,  0.90446749,  0.92062226,  0.92261667,  0.93976865]), 'split2_train_score': array([ 0.86597527,  0.86717192,  0.87794176,  0.8795373 ,  0.88093339,\n",
      "        0.90047866,  0.91084962,  0.9208217 ,  0.91723175,  0.93737535]), 'split3_train_score': array([ 0.86597527,  0.86677304,  0.87634623,  0.88591943,  0.88432389,\n",
      "        0.9054647 ,  0.90965297,  0.93079378,  0.91623454,  0.92879936]), 'split4_train_score': array([ 0.86597527,  0.86896689,  0.87415237,  0.88272836,  0.90506582,\n",
      "        0.89868369,  0.91862784,  0.92740327,  0.9266055 ,  0.92919824]), 'split5_train_score': array([ 0.86600199,  0.86759721,  0.88235294,  0.8885344 ,  0.89471585,\n",
      "        0.89690927,  0.91904287,  0.9112662 ,  0.92642074,  0.93120638]), 'split6_train_score': array([ 0.86600199,  0.87357926,  0.87158524,  0.88673978,  0.89471585,\n",
      "        0.9114656 ,  0.91006979,  0.91684945,  0.92362911,  0.93778664]), 'split7_train_score': array([ 0.86582935,  0.87121212,  0.86941786,  0.88377193,  0.89294258,\n",
      "        0.89314195,  0.90311005,  0.91666667,  0.93799841,  0.92683413]), 'split8_train_score': array([ 0.86961722,  0.86782297,  0.87141148,  0.88895534,  0.89274322,\n",
      "        0.89035088,  0.91148325,  0.92643541,  0.93460925,  0.93500797]), 'split9_train_score': array([ 0.86582935,  0.86702552,  0.87460128,  0.88157895,  0.89374003,\n",
      "        0.90191388,  0.9138756 ,  0.92045455,  0.91885965,  0.92783094]), 'mean_train_score': array([ 0.86631563,  0.86896782,  0.87421251,  0.88579809,  0.89267754,\n",
      "        0.90199084,  0.91146218,  0.92091434,  0.92538028,  0.93248009]), 'std_train_score': array([ 0.00110224,  0.00209402,  0.00363777,  0.00490821,  0.00622654,\n",
      "        0.00716849,  0.00492779,  0.00554673,  0.00684122,  0.00439635])}\n"
     ]
    }
   ],
   "source": [
    "print(clf.cv_results_)"
   ]
  },
  {
   "cell_type": "code",
   "execution_count": 29,
   "metadata": {},
   "outputs": [
    {
     "name": "stdout",
     "output_type": "stream",
     "text": [
      "0.924623115578\n"
     ]
    }
   ],
   "source": [
    "print(clf.best_score_)"
   ]
  },
  {
   "cell_type": "code",
   "execution_count": 31,
   "metadata": {},
   "outputs": [
    {
     "name": "stdout",
     "output_type": "stream",
     "text": [
      "9\n"
     ]
    }
   ],
   "source": [
    "print(clf.best_index_)"
   ]
  },
  {
   "cell_type": "code",
   "execution_count": null,
   "metadata": {
    "collapsed": true
   },
   "outputs": [],
   "source": []
  }
 ],
 "metadata": {
  "kernelspec": {
   "display_name": "Python 3",
   "language": "python",
   "name": "python3"
  },
  "language_info": {
   "codemirror_mode": {
    "name": "ipython",
    "version": 3
   },
   "file_extension": ".py",
   "mimetype": "text/x-python",
   "name": "python",
   "nbconvert_exporter": "python",
   "pygments_lexer": "ipython3",
   "version": "3.6.2"
  }
 },
 "nbformat": 4,
 "nbformat_minor": 2
}
