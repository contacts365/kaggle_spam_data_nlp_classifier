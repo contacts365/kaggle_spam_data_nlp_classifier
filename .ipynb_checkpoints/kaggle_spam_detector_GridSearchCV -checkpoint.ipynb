{
 "cells": [
  {
   "cell_type": "code",
   "execution_count": 26,
   "metadata": {
    "collapsed": true
   },
   "outputs": [],
   "source": [
    "import pandas as pd\n",
    "spam_raw = pd.read_csv('spam.csv',encoding = 'UTF-16')"
   ]
  },
  {
   "cell_type": "code",
   "execution_count": 27,
   "metadata": {
    "collapsed": true
   },
   "outputs": [],
   "source": [
    "# remove empty colomns & rename colomns\n",
    "spam_raw = spam_raw.loc[:,'v1':'v2']\n",
    "spam_raw = spam_raw.rename(columns\t= {'v1':'label','v2':'text'})\t\n",
    "# lower case\n",
    "spam_raw['text'] = spam_raw['text'].str.lower()"
   ]
  },
  {
   "cell_type": "code",
   "execution_count": 28,
   "metadata": {
    "collapsed": true
   },
   "outputs": [],
   "source": [
    "import seaborn as sns\n",
    "%matplotlib inline"
   ]
  },
  {
   "cell_type": "code",
   "execution_count": 29,
   "metadata": {},
   "outputs": [],
   "source": [
    "# convert label to a numerical variable\n",
    "spam_raw['label_num'] = spam_raw.label.map({'ham':0, 'spam':1})"
   ]
  },
  {
   "cell_type": "code",
   "execution_count": 30,
   "metadata": {},
   "outputs": [
    {
     "data": {
      "text/html": [
       "<div>\n",
       "<style>\n",
       "    .dataframe thead tr:only-child th {\n",
       "        text-align: right;\n",
       "    }\n",
       "\n",
       "    .dataframe thead th {\n",
       "        text-align: left;\n",
       "    }\n",
       "\n",
       "    .dataframe tbody tr th {\n",
       "        vertical-align: top;\n",
       "    }\n",
       "</style>\n",
       "<table border=\"1\" class=\"dataframe\">\n",
       "  <thead>\n",
       "    <tr style=\"text-align: right;\">\n",
       "      <th></th>\n",
       "      <th>label</th>\n",
       "      <th>text</th>\n",
       "      <th>label_num</th>\n",
       "    </tr>\n",
       "  </thead>\n",
       "  <tbody>\n",
       "    <tr>\n",
       "      <th>0</th>\n",
       "      <td>ham</td>\n",
       "      <td>go until jurong point, crazy.. available only ...</td>\n",
       "      <td>0</td>\n",
       "    </tr>\n",
       "    <tr>\n",
       "      <th>1</th>\n",
       "      <td>ham</td>\n",
       "      <td>ok lar... joking wif u oni...</td>\n",
       "      <td>0</td>\n",
       "    </tr>\n",
       "    <tr>\n",
       "      <th>2</th>\n",
       "      <td>spam</td>\n",
       "      <td>free entry in 2 a wkly comp to win fa cup fina...</td>\n",
       "      <td>1</td>\n",
       "    </tr>\n",
       "    <tr>\n",
       "      <th>3</th>\n",
       "      <td>ham</td>\n",
       "      <td>u dun say so early hor... u c already then say...</td>\n",
       "      <td>0</td>\n",
       "    </tr>\n",
       "    <tr>\n",
       "      <th>4</th>\n",
       "      <td>ham</td>\n",
       "      <td>nah i don't think he goes to usf, he lives aro...</td>\n",
       "      <td>0</td>\n",
       "    </tr>\n",
       "  </tbody>\n",
       "</table>\n",
       "</div>"
      ],
      "text/plain": [
       "  label                                               text  label_num\n",
       "0   ham  go until jurong point, crazy.. available only ...          0\n",
       "1   ham                      ok lar... joking wif u oni...          0\n",
       "2  spam  free entry in 2 a wkly comp to win fa cup fina...          1\n",
       "3   ham  u dun say so early hor... u c already then say...          0\n",
       "4   ham  nah i don't think he goes to usf, he lives aro...          0"
      ]
     },
     "execution_count": 30,
     "metadata": {},
     "output_type": "execute_result"
    }
   ],
   "source": [
    "spam_raw.head()"
   ]
  },
  {
   "cell_type": "code",
   "execution_count": 31,
   "metadata": {
    "collapsed": true
   },
   "outputs": [],
   "source": [
    "# vectorizer \n",
    "from sklearn.feature_extraction.text import TfidfVectorizer\n",
    "vectorizer = TfidfVectorizer(sublinear_tf=True, max_df=0.5,encoding='utf-16',stop_words='english')\n",
    "\n",
    "# tfidf transformation\n",
    "features_transformed = vectorizer.fit_transform(spam_raw['text'])\n",
    "\n",
    "# feature reduction: select best proportion(5%) of features\n",
    "from sklearn.feature_selection import SelectPercentile, f_classif\n",
    "selector = SelectPercentile(f_classif, percentile = 15)\n",
    "selector.fit(features_transformed, spam_raw['label_num'])\n",
    "features_transformed = selector.transform(features_transformed).toarray()"
   ]
  },
  {
   "cell_type": "code",
   "execution_count": 32,
   "metadata": {
    "collapsed": true
   },
   "outputs": [],
   "source": [
    "from sklearn.ensemble import RandomForestClassifier\n",
    "from sklearn.model_selection import GridSearchCV"
   ]
  },
  {
   "cell_type": "code",
   "execution_count": 33,
   "metadata": {
    "collapsed": true
   },
   "outputs": [],
   "source": [
    "depth_range = range(1,20)\n",
    "parameters = dict(max_depth=depth_range)\n",
    "rf = RandomForestClassifier()\n",
    "clf = GridSearchCV(rf, parameters,cv = 10)"
   ]
  },
  {
   "cell_type": "code",
   "execution_count": 34,
   "metadata": {},
   "outputs": [
    {
     "data": {
      "text/plain": [
       "GridSearchCV(cv=10, error_score='raise',\n",
       "       estimator=RandomForestClassifier(bootstrap=True, class_weight=None, criterion='gini',\n",
       "            max_depth=None, max_features='auto', max_leaf_nodes=None,\n",
       "            min_impurity_decrease=0.0, min_impurity_split=None,\n",
       "            min_samples_leaf=1, min_samples_split=2,\n",
       "            min_weight_fraction_leaf=0.0, n_estimators=10, n_jobs=1,\n",
       "            oob_score=False, random_state=None, verbose=0,\n",
       "            warm_start=False),\n",
       "       fit_params=None, iid=True, n_jobs=1,\n",
       "       param_grid={'max_depth': range(1, 20)}, pre_dispatch='2*n_jobs',\n",
       "       refit=True, return_train_score=True, scoring=None, verbose=0)"
      ]
     },
     "execution_count": 34,
     "metadata": {},
     "output_type": "execute_result"
    }
   ],
   "source": [
    "# fit grid with data\n",
    "clf.fit(features_transformed, spam_raw['label_num'])"
   ]
  },
  {
   "cell_type": "code",
   "execution_count": 35,
   "metadata": {},
   "outputs": [
    {
     "name": "stdout",
     "output_type": "stream",
     "text": [
      "{'mean_fit_time': array([ 0.07000396,  0.08490479,  0.1019058 ,  0.1183068 ,  0.13520763,\n",
      "        0.1434082 ,  0.15470881,  0.16620941,  0.18221042,  0.19121094,\n",
      "        0.20371163,  0.21911256,  0.23521347,  0.25041432,  0.25921485,\n",
      "        0.26421502,  0.27401564,  0.29241664,  0.30161731]), 'std_fit_time': array([ 0.00126495,  0.0009435 ,  0.00225623,  0.00110006,  0.00552839,\n",
      "        0.00458721,  0.00161565,  0.00177767,  0.00188706,  0.00193919,\n",
      "        0.00357937,  0.00448249,  0.00285683,  0.0038525 ,  0.00299346,\n",
      "        0.00203977,  0.0040003 ,  0.0137718 ,  0.00593667]), 'mean_score_time': array([ 0.00380023,  0.00360031,  0.00400026,  0.00420017,  0.00460036,\n",
      "        0.0042002 ,  0.00360022,  0.00390041,  0.00420027,  0.00380023,\n",
      "        0.00410028,  0.00410025,  0.00460024,  0.00460019,  0.00460026,\n",
      "        0.00410032,  0.0041003 ,  0.00430031,  0.00470023]), 'std_score_time': array([ 0.0004001 ,  0.00048984,  0.00044723,  0.00040003,  0.00066341,\n",
      "        0.00040002,  0.00048991,  0.00053861,  0.00039998,  0.00039998,\n",
      "        0.00029995,  0.00030011,  0.00066337,  0.00048995,  0.00048991,\n",
      "        0.00030009,  0.00030002,  0.00064039,  0.00045823]), 'param_max_depth': masked_array(data = [1 2 3 4 5 6 7 8 9 10 11 12 13 14 15 16 17 18 19],\n",
      "             mask = [False False False False False False False False False False False False\n",
      " False False False False False False False],\n",
      "       fill_value = ?)\n",
      ", 'params': [{'max_depth': 1}, {'max_depth': 2}, {'max_depth': 3}, {'max_depth': 4}, {'max_depth': 5}, {'max_depth': 6}, {'max_depth': 7}, {'max_depth': 8}, {'max_depth': 9}, {'max_depth': 10}, {'max_depth': 11}, {'max_depth': 12}, {'max_depth': 13}, {'max_depth': 14}, {'max_depth': 15}, {'max_depth': 16}, {'max_depth': 17}, {'max_depth': 18}, {'max_depth': 19}], 'split0_test_score': array([ 0.8655914 ,  0.87096774,  0.87096774,  0.88530466,  0.89784946,\n",
      "        0.90322581,  0.90681004,  0.92114695,  0.92831541,  0.92293907,\n",
      "        0.9516129 ,  0.93727599,  0.9516129 ,  0.96774194,  0.96415771,\n",
      "        0.95878136,  0.96057348,  0.96057348,  0.96953405]), 'split1_test_score': array([ 0.8655914 ,  0.8655914 ,  0.88709677,  0.87634409,  0.89426523,\n",
      "        0.890681  ,  0.89784946,  0.91218638,  0.92473118,  0.92114695,\n",
      "        0.9265233 ,  0.9390681 ,  0.94265233,  0.94982079,  0.94982079,\n",
      "        0.94802867,  0.9516129 ,  0.95698925,  0.95698925]), 'split2_test_score': array([ 0.8655914 ,  0.86917563,  0.86917563,  0.88709677,  0.88172043,\n",
      "        0.91397849,  0.90681004,  0.91935484,  0.91577061,  0.91756272,\n",
      "        0.93189964,  0.9390681 ,  0.94265233,  0.93010753,  0.95698925,\n",
      "        0.94265233,  0.96057348,  0.95878136,  0.96236559]), 'split3_test_score': array([ 0.8655914 ,  0.86917563,  0.88172043,  0.88351254,  0.88530466,\n",
      "        0.89784946,  0.890681  ,  0.91218638,  0.92831541,  0.93010753,\n",
      "        0.9265233 ,  0.9390681 ,  0.94623656,  0.9516129 ,  0.95698925,\n",
      "        0.96057348,  0.96415771,  0.96774194,  0.96774194]), 'split4_test_score': array([ 0.8655914 ,  0.86917563,  0.87275986,  0.86917563,  0.90501792,\n",
      "        0.90501792,  0.91218638,  0.91935484,  0.93010753,  0.9390681 ,\n",
      "        0.94802867,  0.95698925,  0.93727599,  0.9516129 ,  0.95698925,\n",
      "        0.94982079,  0.95698925,  0.96057348,  0.96236559]), 'split5_test_score': array([ 0.86714542,  0.86894075,  0.87612208,  0.87971275,  0.88150808,\n",
      "        0.91561939,  0.90843806,  0.89766607,  0.92280072,  0.92100539,\n",
      "        0.92280072,  0.92280072,  0.91741472,  0.94075404,  0.93716338,\n",
      "        0.94614004,  0.94793537,  0.94254937,  0.94614004]), 'split6_test_score': array([ 0.86535009,  0.86535009,  0.86714542,  0.87791741,  0.87971275,\n",
      "        0.89048474,  0.90664273,  0.90843806,  0.92459605,  0.93357271,\n",
      "        0.92280072,  0.94075404,  0.93536804,  0.93536804,  0.94614004,\n",
      "        0.9443447 ,  0.94254937,  0.95332136,  0.9497307 ]), 'split7_test_score': array([ 0.86690647,  0.86690647,  0.86870504,  0.88489209,  0.87589928,\n",
      "        0.88848921,  0.90107914,  0.90647482,  0.92266187,  0.91366906,\n",
      "        0.92985612,  0.94064748,  0.9352518 ,  0.9352518 ,  0.95323741,\n",
      "        0.95503597,  0.95143885,  0.96582734,  0.95863309]), 'split8_test_score': array([ 0.86690647,  0.87410072,  0.87410072,  0.89028777,  0.88669065,\n",
      "        0.9118705 ,  0.89928058,  0.92086331,  0.91726619,  0.93345324,\n",
      "        0.9352518 ,  0.9352518 ,  0.94244604,  0.94064748,  0.95323741,\n",
      "        0.95503597,  0.95683453,  0.95503597,  0.95323741]), 'split9_test_score': array([ 0.86870504,  0.86870504,  0.86870504,  0.88129496,  0.89568345,\n",
      "        0.91366906,  0.91366906,  0.91726619,  0.92805755,  0.92266187,\n",
      "        0.93705036,  0.94064748,  0.94604317,  0.96223022,  0.96043165,\n",
      "        0.96223022,  0.95503597,  0.9676259 ,  0.9676259 ]), 'mean_test_score': array([ 0.86629576,  0.86880833,  0.87365398,  0.88155061,  0.88837042,\n",
      "        0.90308686,  0.90434314,  0.91349605,  0.92426418,  0.92552046,\n",
      "        0.93323762,  0.93916009,  0.93969849,  0.94651831,  0.95351759,\n",
      "        0.95226131,  0.95477387,  0.95890165,  0.95944006]), 'std_test_score': array([ 0.00103132,  0.00242858,  0.00609716,  0.00577262,  0.00888478,\n",
      "        0.0101058 ,  0.00669315,  0.00724163,  0.00455595,  0.00768383,\n",
      "        0.0094713 ,  0.00782078,  0.00889316,  0.01161284,  0.00730001,\n",
      "        0.0066541 ,  0.00618068,  0.00724354,  0.00755765]), 'rank_test_score': array([19, 18, 17, 16, 15, 14, 13, 12, 11, 10,  9,  8,  7,  6,  4,  5,  3,\n",
      "        2,  1]), 'split0_train_score': array([ 0.86597527,  0.86816913,  0.87195852,  0.88871161,  0.89908257,\n",
      "        0.89748704,  0.90765856,  0.91663343,  0.92600718,  0.92760271,\n",
      "        0.94615078,  0.9433586 ,  0.94854408,  0.95313123,  0.9597128 ,\n",
      "        0.95911448,  0.96250499,  0.96310331,  0.9644994 ]), 'split1_train_score': array([ 0.86597527,  0.86597527,  0.87754288,  0.87495014,  0.88731552,\n",
      "        0.90107698,  0.91344236,  0.92161947,  0.92740327,  0.93059434,\n",
      "        0.938572  ,  0.94375748,  0.94834464,  0.96011169,  0.95712006,\n",
      "        0.96290387,  0.96390108,  0.96549661,  0.96988432]), 'split2_train_score': array([ 0.86597527,  0.87375349,  0.87854009,  0.8829278 ,  0.88591943,\n",
      "        0.90526526,  0.90905465,  0.92042282,  0.92042282,  0.93199043,\n",
      "        0.93478261,  0.94595134,  0.95372956,  0.9515357 ,  0.96230554,\n",
      "        0.96390108,  0.96310331,  0.96609493,  0.96649382]), 'split3_train_score': array([ 0.86597527,  0.87076187,  0.87514958,  0.88512166,  0.89409653,\n",
      "        0.90207419,  0.90406861,  0.91763063,  0.92421221,  0.92760271,\n",
      "        0.92700439,  0.94555245,  0.95313123,  0.95073793,  0.95851615,\n",
      "        0.96350219,  0.96410052,  0.96310331,  0.96749103]), 'split4_train_score': array([ 0.86597527,  0.86936578,  0.87455126,  0.87255684,  0.9030714 ,\n",
      "        0.90127643,  0.90426805,  0.92221779,  0.92859992,  0.93577982,\n",
      "        0.94874352,  0.94934184,  0.95233347,  0.95791783,  0.95751895,\n",
      "        0.9621061 ,  0.96370164,  0.96788991,  0.96888712]), 'split5_train_score': array([ 0.86879362,  0.87118644,  0.8779661 ,  0.88634098,  0.88713858,\n",
      "        0.90568295,  0.92642074,  0.90767697,  0.93160518,  0.94137587,\n",
      "        0.93399801,  0.93898305,  0.94795613,  0.95393819,  0.95453639,\n",
      "        0.95772682,  0.96410768,  0.95972084,  0.96789631]), 'split6_train_score': array([ 0.8664008 ,  0.87038883,  0.87118644,  0.88673978,  0.888335  ,\n",
      "        0.90368893,  0.91964108,  0.92003988,  0.92642074,  0.94057827,\n",
      "        0.94257228,  0.95014955,  0.94915254,  0.95174477,  0.95752742,\n",
      "        0.96350947,  0.96271186,  0.96051844,  0.96869392]), 'split7_train_score': array([ 0.86602871,  0.86981659,  0.87360447,  0.89374003,  0.88337321,\n",
      "        0.90151515,  0.91208134,  0.92065391,  0.93261563,  0.92902711,\n",
      "        0.9453748 ,  0.94617225,  0.95354864,  0.95653907,  0.95673844,\n",
      "        0.96232057,  0.96551037,  0.96830144,  0.96989633]), 'split8_train_score': array([ 0.86582935,  0.87101276,  0.8765949 ,  0.88357257,  0.89094896,\n",
      "        0.90590112,  0.91028708,  0.92444179,  0.93759968,  0.93779904,\n",
      "        0.93580542,  0.9453748 ,  0.95833333,  0.95035885,  0.9585327 ,\n",
      "        0.96132376,  0.96830144,  0.96491228,  0.96710526]), 'split9_train_score': array([ 0.86622807,  0.86642743,  0.87061404,  0.87480064,  0.8965311 ,\n",
      "        0.89832536,  0.91148325,  0.92264753,  0.92603668,  0.92364434,\n",
      "        0.93062201,  0.94397927,  0.94756778,  0.95374801,  0.95992823,\n",
      "        0.96291866,  0.96012759,  0.96830144,  0.96929825]), 'mean_train_score': array([ 0.86631569,  0.86968576,  0.87477083,  0.8829462 ,  0.89158123,\n",
      "        0.90222934,  0.91184057,  0.91939842,  0.92809233,  0.93259946,\n",
      "        0.93836258,  0.94526206,  0.95126414,  0.95397633,  0.95824367,\n",
      "        0.9619327 ,  0.96380705,  0.96474425,  0.96801458]), 'std_train_score': array([ 0.00083984,  0.00221395,  0.00273891,  0.00647313,  0.00606153,\n",
      "        0.00277952,  0.006493  ,  0.00447296,  0.00457348,  0.00570192,\n",
      "        0.0068021 ,  0.00298146,  0.00332997,  0.00308259,  0.00199908,\n",
      "        0.00192152,  0.00200563,  0.00293425,  0.00160286])}\n"
     ]
    }
   ],
   "source": [
    "print(clf.cv_results_)"
   ]
  },
  {
   "cell_type": "code",
   "execution_count": 36,
   "metadata": {},
   "outputs": [
    {
     "name": "stdout",
     "output_type": "stream",
     "text": [
      "0.95944005743\n"
     ]
    }
   ],
   "source": [
    "print(clf.best_score_)"
   ]
  },
  {
   "cell_type": "code",
   "execution_count": 37,
   "metadata": {},
   "outputs": [
    {
     "name": "stdout",
     "output_type": "stream",
     "text": [
      "18\n"
     ]
    }
   ],
   "source": [
    "print(clf.best_index_)"
   ]
  },
  {
   "cell_type": "code",
   "execution_count": null,
   "metadata": {
    "collapsed": true
   },
   "outputs": [],
   "source": []
  }
 ],
 "metadata": {
  "kernelspec": {
   "display_name": "Python 3",
   "language": "python",
   "name": "python3"
  },
  "language_info": {
   "codemirror_mode": {
    "name": "ipython",
    "version": 3
   },
   "file_extension": ".py",
   "mimetype": "text/x-python",
   "name": "python",
   "nbconvert_exporter": "python",
   "pygments_lexer": "ipython3",
   "version": "3.6.2"
  }
 },
 "nbformat": 4,
 "nbformat_minor": 2
}
